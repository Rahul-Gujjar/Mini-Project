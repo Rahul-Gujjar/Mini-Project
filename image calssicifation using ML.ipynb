{
 "cells": [
  {
   "cell_type": "markdown",
   "id": "human-nursery",
   "metadata": {},
   "source": [
    "1. Data : Images \n",
    "2. Download images manually the image from google \n",
    "3. dowload dataset from kaggle.com \n",
    "4. Build a image web crawler \n",
    "5. Use python library to scrape the images (using) "
   ]
  },
  {
   "cell_type": "code",
   "execution_count": 1,
   "id": "objective-craps",
   "metadata": {},
   "outputs": [
    {
     "name": "stdout",
     "output_type": "stream",
     "text": [
      "Requirement already satisfied: bing-image-downloader in d:\\anaconda\\lib\\site-packages (1.0.4)\n"
     ]
    }
   ],
   "source": [
    "!pip install bing-image-downloader"
   ]
  },
  {
   "cell_type": "code",
   "execution_count": 2,
   "id": "molecular-tuning",
   "metadata": {},
   "outputs": [
    {
     "name": "stderr",
     "output_type": "stream",
     "text": [
      "A subdirectory or file images already exists.\n"
     ]
    }
   ],
   "source": [
    "!mkdir images"
   ]
  },
  {
   "cell_type": "code",
   "execution_count": 3,
   "id": "contained-probability",
   "metadata": {},
   "outputs": [
    {
     "name": "stdout",
     "output_type": "stream",
     "text": [
      "\n",
      "\n",
      "[!!]Indexing page: 1\n",
      "\n",
      "[%] Indexed 14 Images on Page 1.\n",
      "\n",
      "===============================================\n",
      "\n",
      "[%] Downloading Image #1 from https://i.pinimg.com/736x/9a/e0/5c/9ae05cd6d5cfc4ea71fa68b00c203750--sun-flowers-pretty-flowers.jpg\n",
      "[%] File Downloaded !\n",
      "\n",
      "[%] Downloading Image #2 from https://i.pinimg.com/originals/21/c8/e2/21c8e2c6a8ccbdd74c5cf5ffd1b388c6.jpg\n",
      "[%] File Downloaded !\n",
      "\n",
      "[%] Downloading Image #3 from https://i.pinimg.com/736x/77/3f/e6/773fe6cd3196fa5240ccad71389f60d3.jpg\n",
      "[%] File Downloaded !\n",
      "\n",
      "[%] Downloading Image #4 from https://i.pinimg.com/736x/b6/56/0a/b6560ad58b4e7e418a3dcc03c1ea5db7.jpg\n",
      "[%] File Downloaded !\n",
      "\n",
      "[%] Downloading Image #5 from https://i.pinimg.com/originals/04/24/3f/04243f00fb840dbb79f197339ea31830.jpg\n",
      "[%] File Downloaded !\n",
      "\n",
      "[%] Downloading Image #6 from http://bestanimations.com/Nature/Flora/beautiful-flower-animated-gif5.gif\n",
      "[%] File Downloaded !\n",
      "\n",
      "[%] Downloading Image #7 from https://www.bing.com/th/id/OGC.e05f040180d53eea684e8bd417ae1906?pid=1.7&amp;rurl=http%3a%2f%2fbestanimations.com%2fNature%2fFlora%2fbeautiful-flower-animated-gif5.gif&amp;ehk=hXId79kB6Qzje%2fXX4PcscHK8awAl14mRpSaJMYngHY0%3d\n",
      "[!] Issue getting: https://www.bing.com/th/id/OGC.e05f040180d53eea684e8bd417ae1906?pid=1.7&amp;rurl=http%3a%2f%2fbestanimations.com%2fNature%2fFlora%2fbeautiful-flower-animated-gif5.gif&amp;ehk=hXId79kB6Qzje%2fXX4PcscHK8awAl14mRpSaJMYngHY0%3d\n",
      "[!] Error:: HTTP Error 404: Not Found\n",
      "[%] Downloading Image #7 from https://i.pinimg.com/736x/75/05/38/75053841ad790059e0ba27c83d2ee5d8--field-of-sunflowers-sunflower-fields.jpg\n",
      "[%] File Downloaded !\n",
      "\n",
      "[%] Downloading Image #8 from https://i.pinimg.com/736x/4e/1e/41/4e1e4184ae33f28a5b9dab556683a019.jpg\n",
      "[%] File Downloaded !\n",
      "\n",
      "[%] Downloading Image #9 from http://www.ecstasycoffee.com/wp-content/uploads/2016/09/Most-women-opt-for-butterfly-tattoos-because-of-its-cute-shape-and-symbolic-meaning..jpg\n",
      "[%] File Downloaded !\n",
      "\n",
      "[%] Downloading Image #10 from https://i2.wp.com/www.ecstasycoffee.com/wp-content/uploads/2016/09/Pretty-sunflower-tattoo-design-with-a-bird-flying-above-it..jpg\n",
      "[%] File Downloaded !\n",
      "\n",
      "[%] Downloading Image #11 from https://78.media.tumblr.com/4f7dd99d041fbd6ce381de6bad55e59b/tumblr_msjdiuvdPh1s8w66bo1_500.gif\n",
      "[%] File Downloaded !\n",
      "\n",
      "[%] Downloading Image #12 from https://www.bing.com/th/id/OGC.1bcf58b81cd877391bdc2247416ddb38?pid=1.7&amp;rurl=https%3a%2f%2f78.media.tumblr.com%2f4f7dd99d041fbd6ce381de6bad55e59b%2ftumblr_msjdiuvdPh1s8w66bo1_500.gif&amp;ehk=6i8CEt%2bcBb2RyiXLKO5fHcJlEHN3X6anDqIOAVScqO8%3d\n",
      "[!] Issue getting: https://www.bing.com/th/id/OGC.1bcf58b81cd877391bdc2247416ddb38?pid=1.7&amp;rurl=https%3a%2f%2f78.media.tumblr.com%2f4f7dd99d041fbd6ce381de6bad55e59b%2ftumblr_msjdiuvdPh1s8w66bo1_500.gif&amp;ehk=6i8CEt%2bcBb2RyiXLKO5fHcJlEHN3X6anDqIOAVScqO8%3d\n",
      "[!] Error:: HTTP Error 404: Not Found\n",
      "[%] Downloading Image #12 from http://ohbestdayever.com/wp-content/uploads/2017/12/rustic-sunflower-wedding-centerpiece-ideas.jpg\n",
      "[%] File Downloaded !\n",
      "\n",
      "\n",
      "\n",
      "[!!]Indexing page: 2\n",
      "\n",
      "[%] Indexed 14 Images on Page 2.\n",
      "\n",
      "===============================================\n",
      "\n",
      "[%] Downloading Image #13 from https://i.pinimg.com/736x/9a/e0/5c/9ae05cd6d5cfc4ea71fa68b00c203750--sun-flowers-pretty-flowers.jpg\n",
      "[%] File Downloaded !\n",
      "\n",
      "[%] Downloading Image #14 from https://i.pinimg.com/originals/04/24/3f/04243f00fb840dbb79f197339ea31830.jpg\n",
      "[%] File Downloaded !\n",
      "\n",
      "[%] Downloading Image #15 from http://bestanimations.com/Nature/Flora/beautiful-flower-animated-gif5.gif\n",
      "[%] File Downloaded !\n",
      "\n",
      "[%] Downloading Image #16 from https://www.bing.com/th/id/OGC.e05f040180d53eea684e8bd417ae1906?pid=1.7&amp;rurl=http%3a%2f%2fbestanimations.com%2fNature%2fFlora%2fbeautiful-flower-animated-gif5.gif&amp;ehk=hXId79kB6Qzje%2fXX4PcscHK8awAl14mRpSaJMYngHY0%3d\n",
      "[!] Issue getting: https://www.bing.com/th/id/OGC.e05f040180d53eea684e8bd417ae1906?pid=1.7&amp;rurl=http%3a%2f%2fbestanimations.com%2fNature%2fFlora%2fbeautiful-flower-animated-gif5.gif&amp;ehk=hXId79kB6Qzje%2fXX4PcscHK8awAl14mRpSaJMYngHY0%3d\n",
      "[!] Error:: HTTP Error 404: Not Found\n",
      "[%] Downloading Image #16 from https://i.pinimg.com/736x/b6/56/0a/b6560ad58b4e7e418a3dcc03c1ea5db7.jpg\n",
      "[%] File Downloaded !\n",
      "\n",
      "[%] Downloading Image #17 from https://i.pinimg.com/736x/77/3f/e6/773fe6cd3196fa5240ccad71389f60d3.jpg\n",
      "[%] File Downloaded !\n",
      "\n",
      "[%] Downloading Image #18 from https://i.pinimg.com/originals/21/c8/e2/21c8e2c6a8ccbdd74c5cf5ffd1b388c6.jpg\n",
      "[%] File Downloaded !\n",
      "\n",
      "[%] Downloading Image #19 from https://i.pinimg.com/736x/75/05/38/75053841ad790059e0ba27c83d2ee5d8--field-of-sunflowers-sunflower-fields.jpg\n",
      "[%] File Downloaded !\n",
      "\n",
      "[%] Downloading Image #20 from https://i.pinimg.com/736x/4e/1e/41/4e1e4184ae33f28a5b9dab556683a019.jpg\n",
      "[%] File Downloaded !\n",
      "\n",
      "[%] Downloading Image #21 from http://www.ecstasycoffee.com/wp-content/uploads/2016/09/Most-women-opt-for-butterfly-tattoos-because-of-its-cute-shape-and-symbolic-meaning..jpg\n",
      "[%] File Downloaded !\n",
      "\n",
      "[%] Downloading Image #22 from https://i2.wp.com/www.ecstasycoffee.com/wp-content/uploads/2016/09/Pretty-sunflower-tattoo-design-with-a-bird-flying-above-it..jpg\n",
      "[%] File Downloaded !\n",
      "\n",
      "[%] Downloading Image #23 from https://78.media.tumblr.com/4f7dd99d041fbd6ce381de6bad55e59b/tumblr_msjdiuvdPh1s8w66bo1_500.gif\n",
      "[%] File Downloaded !\n",
      "\n",
      "[%] Downloading Image #24 from https://www.bing.com/th/id/OGC.1bcf58b81cd877391bdc2247416ddb38?pid=1.7&amp;rurl=https%3a%2f%2f78.media.tumblr.com%2f4f7dd99d041fbd6ce381de6bad55e59b%2ftumblr_msjdiuvdPh1s8w66bo1_500.gif&amp;ehk=6i8CEt%2bcBb2RyiXLKO5fHcJlEHN3X6anDqIOAVScqO8%3d\n",
      "[!] Issue getting: https://www.bing.com/th/id/OGC.1bcf58b81cd877391bdc2247416ddb38?pid=1.7&amp;rurl=https%3a%2f%2f78.media.tumblr.com%2f4f7dd99d041fbd6ce381de6bad55e59b%2ftumblr_msjdiuvdPh1s8w66bo1_500.gif&amp;ehk=6i8CEt%2bcBb2RyiXLKO5fHcJlEHN3X6anDqIOAVScqO8%3d\n",
      "[!] Error:: HTTP Error 404: Not Found\n",
      "[%] Downloading Image #24 from http://ohbestdayever.com/wp-content/uploads/2017/12/rustic-sunflower-wedding-centerpiece-ideas.jpg\n",
      "[%] File Downloaded !\n",
      "\n",
      "\n",
      "\n",
      "[!!]Indexing page: 3\n",
      "\n",
      "[%] Indexed 13 Images on Page 3.\n",
      "\n",
      "===============================================\n",
      "\n",
      "[%] Downloading Image #25 from https://i.pinimg.com/736x/b6/56/0a/b6560ad58b4e7e418a3dcc03c1ea5db7.jpg\n",
      "[%] File Downloaded !\n",
      "\n",
      "[%] Downloading Image #26 from https://i.pinimg.com/originals/21/c8/e2/21c8e2c6a8ccbdd74c5cf5ffd1b388c6.jpg\n",
      "[%] File Downloaded !\n",
      "\n",
      "[%] Downloading Image #27 from https://i.pinimg.com/736x/77/3f/e6/773fe6cd3196fa5240ccad71389f60d3.jpg\n",
      "[%] File Downloaded !\n",
      "\n",
      "[%] Downloading Image #28 from http://ohbestdayever.com/wp-content/uploads/2017/12/rustic-sunflower-wedding-centerpiece-ideas.jpg\n",
      "[%] File Downloaded !\n",
      "\n",
      "[%] Downloading Image #29 from https://i.pinimg.com/736x/75/05/38/75053841ad790059e0ba27c83d2ee5d8--field-of-sunflowers-sunflower-fields.jpg\n",
      "[%] File Downloaded !\n",
      "\n",
      "[%] Downloading Image #30 from https://i2.wp.com/www.ecstasycoffee.com/wp-content/uploads/2016/09/Pretty-sunflower-tattoo-design-with-a-bird-flying-above-it..jpg\n",
      "[%] File Downloaded !\n",
      "\n",
      "\n",
      "\n",
      "[%] Done. Downloaded 30 images.\n",
      "\n",
      "===============================================\n",
      "\n"
     ]
    }
   ],
   "source": [
    "from bing_image_downloader import downloader\n",
    "downloader.download(\"pretty sunflower\", limit=30, output_dir='images',adult_filter_off=True)"
   ]
  },
  {
   "cell_type": "code",
   "execution_count": 4,
   "id": "raised-nepal",
   "metadata": {},
   "outputs": [
    {
     "name": "stdout",
     "output_type": "stream",
     "text": [
      "\n",
      "\n",
      "[!!]Indexing page: 1\n",
      "\n",
      "[%] Indexed 12 Images on Page 1.\n",
      "\n",
      "===============================================\n",
      "\n",
      "[%] Downloading Image #1 from https://cdn.notonthehighstreet.com/system/product_images/images/000/393/351/original_CF016852.jpg\n",
      "[%] File Downloaded !\n",
      "\n",
      "[%] Downloading Image #2 from https://c1.staticflickr.com/3/2319/5810298255_1e031e64e5_b.jpg\n",
      "[%] File Downloaded !\n",
      "\n",
      "[%] Downloading Image #3 from https://media.gq-magazine.co.uk/photos/5d1397242881cc0ab70a8266/16:9/w_1920,c_limit/Rugby-ball-HP-GQ-01Oct15_b.jpg\n",
      "[%] File Downloaded !\n",
      "\n",
      "[%] Downloading Image #4 from https://images.antiquesatlas.com/dealer-stock-images/puckeringsantiques/Antique_Novelty_Travel_Inkwell_as584a1568z-3.jpg\n",
      "[%] File Downloaded !\n",
      "\n",
      "[%] Downloading Image #5 from http://cdn.shopify.com/s/files/1/0020/1025/1324/products/32p_black_1024x.png?v=1534865418\n",
      "[%] File Downloaded !\n",
      "\n",
      "[%] Downloading Image #6 from http://www.john-woodbridge.com/1009-tm_large_default/1930s-football.jpg\n",
      "[%] File Downloaded !\n",
      "\n",
      "[%] Downloading Image #7 from http://www.upfrontcricket.com/media/catalog/product/cache/1/image/9df78eab33525d08d6e5fb8d27136e95/j/n/jnrleague_cb_edited-2.jpg\n",
      "[%] File Downloaded !\n",
      "\n",
      "[%] Downloading Image #8 from https://static.vecteezy.com/system/resources/previews/000/111/433/original/vector-leather-football-texture.jpg\n",
      "[%] File Downloaded !\n",
      "\n",
      "[%] Downloading Image #9 from https://www.prodirectrugby.com/productimages/V3_1_Main/82143.jpg\n",
      "[!] Issue getting: https://www.prodirectrugby.com/productimages/V3_1_Main/82143.jpg\n",
      "[!] Error:: HTTP Error 403: Forbidden\n",
      "[%] Downloading Image #9 from https://abclive1.s3.amazonaws.com/efe3ebc9-f32d-4915-b7bc-fbbbb13bed2f/productimage/P-BGG7___2___L.jpg\n",
      "[%] File Downloaded !\n",
      "\n",
      "[%] Downloading Image #10 from https://www.rugbyfactoryshop.co.uk/media/catalog/product/cache/13/image/650x/040ec09b1e35df139433887a97daa66f/e/7/e7b363234427ee2943229c29b8cfbf34.jpg\n",
      "[%] File Downloaded !\n",
      "\n",
      "[%] Downloading Image #11 from https://www.prodirectrugby.com/productimages/V3_1_Main/54935.jpg\n",
      "[!] Issue getting: https://www.prodirectrugby.com/productimages/V3_1_Main/54935.jpg\n",
      "[!] Error:: HTTP Error 403: Forbidden\n",
      "\n",
      "\n",
      "[!!]Indexing page: 2\n",
      "\n",
      "[%] Indexed 12 Images on Page 2.\n",
      "\n",
      "===============================================\n",
      "\n",
      "[%] Downloading Image #11 from http://cdn.notonthehighstreet.com/fs/8a/45/63d5-72fa-4da4-8ea3-05eb16e124e5/original_vintage-leather-rugby-ball-keyring.jpg\n",
      "[%] File Downloaded !\n",
      "\n",
      "[%] Downloading Image #12 from https://upload.wikimedia.org/wikipedia/commons/9/96/Rugby_ball_webb_ellis.png\n",
      "[%] File Downloaded !\n",
      "\n",
      "[%] Downloading Image #13 from http://cdn.shopify.com/s/files/1/0788/5979/products/mvp-leather-balls-heritage-leather-t-soccer-ball-2_1024x1024.jpg?v=1554719760\n",
      "[!] Issue getting: http://cdn.shopify.com/s/files/1/0788/5979/products/mvp-leather-balls-heritage-leather-t-soccer-ball-2_1024x1024.jpg?v=1554719760\n",
      "[!] Error:: <urlopen error [WinError 10060] A connection attempt failed because the connected party did not properly respond after a period of time, or established connection failed because connected host has failed to respond>\n",
      "[%] Downloading Image #13 from https://www.john-woodbridge.com/1536-tm_large_default/leather-vintage-football-allen-1938.jpg\n",
      "[%] File Downloaded !\n",
      "\n",
      "[%] Downloading Image #14 from https://cdn.shopify.com/s/files/1/0226/2169/products/DisplayStand_2048x2048_V1_large.jpg?v=1555516223\n",
      "[%] File Downloaded !\n",
      "\n",
      "[%] Downloading Image #15 from https://www.sportsballshop.co.uk/acatalog/DukesSelectMatch.jpg\n",
      "[%] File Downloaded !\n",
      "\n",
      "[%] Downloading Image #16 from https://cdn.theschoollocker.com.au/media/catalog/product/cache/1/image/9df78eab33525d08d6e5fb8d27136e95/1/1/11377-red-10834-red.jpg\n",
      "[%] File Downloaded !\n",
      "\n",
      "[%] Downloading Image #17 from https://www.prodirectrugby.com/productimages/V3_1_Main/142348.jpg\n",
      "[!] Issue getting: https://www.prodirectrugby.com/productimages/V3_1_Main/142348.jpg\n",
      "[!] Error:: HTTP Error 403: Forbidden\n",
      "[%] Downloading Image #17 from https://www.prodirectrugby.com/productimages/V3_1_Main/69288.jpg\n",
      "[!] Issue getting: https://www.prodirectrugby.com/productimages/V3_1_Main/69288.jpg\n",
      "[!] Error:: HTTP Error 403: Forbidden\n",
      "[%] Downloading Image #17 from https://www.bigw.com.au/medias/sys_master/images/images/ha0/h17/10825466937374.jpg\n",
      "[%] File Downloaded !\n",
      "\n",
      "[%] Downloading Image #18 from http://www.hyphenint.net/images/products/867/nbasketballkit2jpg.jpg\n",
      "[%] File Downloaded !\n",
      "\n",
      "[%] Downloading Image #19 from https://static.vecteezy.com/system/resources/previews/000/551/060/original/american-football-vector-icon.jpg\n",
      "[%] File Downloaded !\n",
      "\n",
      "\n",
      "\n",
      "[!!]Indexing page: 3\n",
      "\n",
      "[%] Indexed 11 Images on Page 3.\n",
      "\n",
      "===============================================\n",
      "\n",
      "[%] Downloading Image #20 from https://upload.wikimedia.org/wikipedia/commons/9/96/Rugby_ball_webb_ellis.png\n",
      "[%] File Downloaded !\n",
      "\n",
      "[%] Downloading Image #21 from http://cdn.shopify.com/s/files/1/0788/5979/products/mvp-leather-balls-heritage-leather-t-soccer-ball-2_1024x1024.jpg?v=1554719760\n",
      "[!] Issue getting: http://cdn.shopify.com/s/files/1/0788/5979/products/mvp-leather-balls-heritage-leather-t-soccer-ball-2_1024x1024.jpg?v=1554719760\n",
      "[!] Error:: <urlopen error [WinError 10060] A connection attempt failed because the connected party did not properly respond after a period of time, or established connection failed because connected host has failed to respond>\n",
      "[%] Downloading Image #21 from https://www.john-woodbridge.com/1536-tm_large_default/leather-vintage-football-allen-1938.jpg\n",
      "[%] File Downloaded !\n",
      "\n",
      "[%] Downloading Image #22 from https://cdn.shopify.com/s/files/1/0226/2169/products/DisplayStand_2048x2048_V1_large.jpg?v=1555516223\n",
      "[%] File Downloaded !\n",
      "\n",
      "[%] Downloading Image #23 from https://www.sportsballshop.co.uk/acatalog/DukesSelectMatch.jpg\n",
      "[%] File Downloaded !\n",
      "\n",
      "[%] Downloading Image #24 from https://cdn.theschoollocker.com.au/media/catalog/product/cache/1/image/9df78eab33525d08d6e5fb8d27136e95/1/1/11377-red-10834-red.jpg\n",
      "[%] File Downloaded !\n",
      "\n",
      "[%] Downloading Image #25 from https://www.prodirectrugby.com/productimages/V3_1_Main/142348.jpg\n",
      "[!] Issue getting: https://www.prodirectrugby.com/productimages/V3_1_Main/142348.jpg\n",
      "[!] Error:: HTTP Error 403: Forbidden\n",
      "[%] Downloading Image #25 from https://www.prodirectrugby.com/productimages/V3_1_Main/69288.jpg\n",
      "[!] Issue getting: https://www.prodirectrugby.com/productimages/V3_1_Main/69288.jpg\n",
      "[!] Error:: HTTP Error 403: Forbidden\n",
      "[%] Downloading Image #25 from https://www.bigw.com.au/medias/sys_master/images/images/ha0/h17/10825466937374.jpg\n",
      "[%] File Downloaded !\n",
      "\n",
      "[%] Downloading Image #26 from http://www.hyphenint.net/images/products/867/nbasketballkit2jpg.jpg\n",
      "[%] File Downloaded !\n",
      "\n",
      "[%] Downloading Image #27 from https://static.vecteezy.com/system/resources/previews/000/551/060/original/american-football-vector-icon.jpg\n",
      "[%] File Downloaded !\n",
      "\n",
      "\n",
      "\n",
      "[!!]Indexing page: 4\n",
      "\n",
      "[%] Indexed 10 Images on Page 4.\n",
      "\n",
      "===============================================\n",
      "\n",
      "[%] Downloading Image #28 from https://openclipart.org/image/800px/svg_to_png/281547/RugbyBall2.png\n",
      "[%] File Downloaded !\n",
      "\n",
      "[%] Downloading Image #29 from https://www.teacosyfolk.co.uk/images/rugby-tea-cosy.jpg\n",
      "[%] File Downloaded !\n",
      "\n",
      "[%] Downloading Image #30 from https://www.academyballs.com/s/cc_images/cache_1818127.jpg?t=1479054313\n",
      "[%] File Downloaded !\n",
      "\n",
      "\n",
      "\n",
      "[%] Done. Downloaded 30 images.\n",
      "\n",
      "===============================================\n",
      "\n"
     ]
    }
   ],
   "source": [
    "downloader.download(\"rugby ball leather\", limit=30, output_dir='images',adult_filter_off=True)"
   ]
  },
  {
   "cell_type": "code",
   "execution_count": 5,
   "id": "described-angola",
   "metadata": {},
   "outputs": [
    {
     "name": "stdout",
     "output_type": "stream",
     "text": [
      "\n",
      "\n",
      "[!!]Indexing page: 1\n",
      "\n",
      "[%] Indexed 13 Images on Page 1.\n",
      "\n",
      "===============================================\n",
      "\n",
      "[%] Downloading Image #1 from https://cdn001.cakecentral.com/gallery/2017/07/900_melting-ice-cream-cone-997041mFIfl.jpg\n",
      "[%] File Downloaded !\n",
      "\n",
      "[%] Downloading Image #2 from https://www.intimateweddings.com/wp-content/uploads/2011/04/french-fry-cones.jpg\n",
      "[%] File Downloaded !\n",
      "\n",
      "[%] Downloading Image #3 from https://superradnow.files.wordpress.com/2012/01/2437209248_b85e658e0c.jpg\n",
      "[%] File Downloaded !\n",
      "\n",
      "[%] Downloading Image #4 from https://splashysplash.com/wp-content/uploads/2012/04/gucci-mane-ice-cream-cone-piece-white-diamonds-jewelry-brick-squad-camer-chain.jpeg\n",
      "[%] File Downloaded !\n",
      "\n",
      "[%] Downloading Image #5 from http://1.bp.blogspot.com/-FEj_EwKmwsA/UJvWqUqr4FI/AAAAAAAACuw/6lNSLL85pws/s400/popsicle+stick+tree.jpg\n",
      "[%] File Downloaded !\n",
      "\n",
      "[%] Downloading Image #6 from https://i.pinimg.com/736x/9a/00/4a/9a004afa9e1ae3371210ce07b4aaaf58--soft-serve-fake-food.jpg\n",
      "[%] File Downloaded !\n",
      "\n",
      "[%] Downloading Image #7 from http://bestanimations.com/Food/ice-pop-animated-gif.gif\n",
      "[%] File Downloaded !\n",
      "\n",
      "[%] Downloading Image #8 from https://www.bing.com/th/id/OGC.73a5f1d5300bf4d6af5f7b3c2218dddc?pid=1.7&amp;rurl=http%3a%2f%2fbestanimations.com%2fFood%2fice-pop-animated-gif.gif&amp;ehk=2%2fDqe65TV5uyW8cpgPEtqq2hVzMxym8Y5iegGSRgfPA%3d\n",
      "[!] Issue getting: https://www.bing.com/th/id/OGC.73a5f1d5300bf4d6af5f7b3c2218dddc?pid=1.7&amp;rurl=http%3a%2f%2fbestanimations.com%2fFood%2fice-pop-animated-gif.gif&amp;ehk=2%2fDqe65TV5uyW8cpgPEtqq2hVzMxym8Y5iegGSRgfPA%3d\n",
      "[!] Error:: HTTP Error 404: Not Found\n",
      "[%] Downloading Image #8 from https://littlebitsof.com/wp-content/uploads/2014/04/DSC_0131.jpg\n",
      "[%] File Downloaded !\n",
      "\n",
      "[%] Downloading Image #9 from https://family.disney.com/wp-content/uploads/2018/07/icecream-wallpaper-2.jpg\n",
      "[%] File Downloaded !\n",
      "\n",
      "[%] Downloading Image #10 from https://www.askideas.com/media/77/Funny-Ice-Cream-Tattoo.jpg\n",
      "[%] File Downloaded !\n",
      "\n",
      "[%] Downloading Image #11 from https://i.ytimg.com/vi/hqVkJTDdZbw/hqdefault.jpg\n",
      "[%] File Downloaded !\n",
      "\n",
      "[%] Downloading Image #12 from https://thecarpetbaggernyc.files.wordpress.com/2012/06/black-and-white-fashion-girl-ice-cream-minnie-mouse-favim-com-76872.jpg\n",
      "[%] File Downloaded !\n",
      "\n",
      "\n",
      "\n",
      "[!!]Indexing page: 2\n",
      "\n",
      "[%] Indexed 11 Images on Page 2.\n",
      "\n",
      "===============================================\n",
      "\n",
      "[%] Downloading Image #13 from http://i1.wp.com/cakeisnotalie.net/wp-content/uploads/2018/01/HorseWithAnIceCreamCone.jpg\n",
      "[%] File Downloaded !\n",
      "\n",
      "[%] Downloading Image #14 from http://cdn.beau-coup.com/content-images/152540/152540-0.jpg\n",
      "[%] File Downloaded !\n",
      "\n",
      "[%] Downloading Image #15 from https://cdn.cltampa.com/files/base/scomm/cltampa/image/2016/09/9x16/960w/Server_lights_a_Black_Rock_Volcano_dessert__Brownie_with_ice_cream__marshmellow__waffle_cone__and_whipped_cream_drizzled_with_caramel_and_chocolate_sauce.57cd8a3c70dcd.jpg\n",
      "[%] File Downloaded !\n",
      "\n",
      "[%] Downloading Image #16 from https://i.pinimg.com/736x/29/90/1d/29901d5e64708a03f4f65bd86400ed76.jpg\n",
      "[%] File Downloaded !\n",
      "\n",
      "[%] Downloading Image #17 from https://d2rd7etdn93tqb.cloudfront.net/wp-content/uploads/2018/01/ice-cream-cone-colors-social-011618-1024x538.jpg\n",
      "[%] File Downloaded !\n",
      "\n",
      "[%] Downloading Image #18 from http://coolcreativity.com/wp-content/uploads/2014/06/diy-delicious-bread-cone-10.jpg\n",
      "[%] File Downloaded !\n",
      "\n",
      "[%] Downloading Image #19 from https://www.justdezineit.com/images/jchoicecreamcone.jpg\n",
      "[%] File Downloaded !\n",
      "\n",
      "[%] Downloading Image #20 from http://thefancy-media-ec3.thefancy.com/original/20110902/260782783_854ed8477672.jpg\n",
      "[%] File Downloaded !\n",
      "\n",
      "[%] Downloading Image #21 from https://c1.staticflickr.com/5/4004/4677680783_dc80c313f2_b.jpg\n",
      "[!] Issue getting: https://c1.staticflickr.com/5/4004/4677680783_dc80c313f2_b.jpg\n",
      "[!] Error:: <urlopen error [WinError 10060] A connection attempt failed because the connected party did not properly respond after a period of time, or established connection failed because connected host has failed to respond>\n",
      "[%] Downloading Image #21 from http://www.disneyfoodblog.com/wp-content/uploads/2018/11/Gibson-Girl-Christmas-Holiday-Peppermint-Sundae-2018-001.jpg\n",
      "[%] File Downloaded !\n",
      "\n",
      "[%] Downloading Image #22 from https://i.pinimg.com/736x/9f/d2/10/9fd210400622b786109fe87c8586bb6c--paulette-royals.jpg\n",
      "[%] File Downloaded !\n",
      "\n",
      "\n",
      "\n",
      "[!!]Indexing page: 3\n",
      "\n",
      "[%] Indexed 11 Images on Page 3.\n",
      "\n",
      "===============================================\n",
      "\n",
      "[%] Downloading Image #23 from https://www.roadsideamerica.com/attract/images/mo/MOAFFicecream_laura.jpg\n",
      "[%] File Downloaded !\n",
      "\n",
      "[%] Downloading Image #24 from https://c8.alamy.com/comp/EH73TT/a-big-ice-cream-cone-banner-on-display-outside-a-gelateria-rome-italy-EH73TT.jpg\n",
      "[%] File Downloaded !\n",
      "\n",
      "[%] Downloading Image #25 from http://www.mvbr31.com/images/photoGallery/minnie_train.jpg\n",
      "[%] File Downloaded !\n",
      "\n",
      "[%] Downloading Image #26 from https://static.boredpanda.com/blog/wp-content/uploads/2017/04/black-ice-cream-cone-little-damage-4-590085eb5e59a__700.jpg\n",
      "[%] File Downloaded !\n",
      "\n",
      "[%] Downloading Image #27 from https://www.craftymorning.com/wp-content/uploads/2016/05/cotton-candy-cones-party-favor.jpg\n",
      "[%] File Downloaded !\n",
      "\n",
      "[%] Downloading Image #28 from https://gloomth.files.wordpress.com/2019/09/kawaii-clown-makeup.jpg\n",
      "[%] File Downloaded !\n",
      "\n",
      "[%] Downloading Image #29 from https://c1.staticflickr.com/1/170/448920776_1314e3f66e_b.jpg\n",
      "[!] Issue getting: https://c1.staticflickr.com/1/170/448920776_1314e3f66e_b.jpg\n",
      "[!] Error:: <urlopen error [WinError 10060] A connection attempt failed because the connected party did not properly respond after a period of time, or established connection failed because connected host has failed to respond>\n",
      "[%] Downloading Image #29 from https://thumbs.dreamstime.com/z/led-lamp-ice-cream-cone-innovation-concept-34332971.jpg\n",
      "[%] File Downloaded !\n",
      "\n",
      "[%] Downloading Image #30 from https://i.pinimg.com/736x/3e/82/f0/3e82f0ac7b4002fb214804232d47262a--pencil-art-icecream.jpg\n",
      "[%] File Downloaded !\n",
      "\n",
      "\n",
      "\n",
      "[%] Done. Downloaded 30 images.\n",
      "\n",
      "===============================================\n",
      "\n"
     ]
    }
   ],
   "source": [
    "downloader.download(\"ice cream cone\", limit=30, output_dir='images',adult_filter_off=True)"
   ]
  },
  {
   "cell_type": "code",
   "execution_count": 6,
   "id": "administrative-lesbian",
   "metadata": {},
   "outputs": [
    {
     "name": "stdout",
     "output_type": "stream",
     "text": [
      "Requirement already satisfied: ipython-autotime in d:\\anaconda\\lib\\site-packages (0.3.1)\n",
      "Requirement already satisfied: ipython in d:\\anaconda\\lib\\site-packages (from ipython-autotime) (7.20.0)\n",
      "Requirement already satisfied: decorator in d:\\anaconda\\lib\\site-packages (from ipython->ipython-autotime) (4.4.2)\n",
      "Requirement already satisfied: backcall in d:\\anaconda\\lib\\site-packages (from ipython->ipython-autotime) (0.2.0)\n",
      "Requirement already satisfied: prompt-toolkit!=3.0.0,!=3.0.1,<3.1.0,>=2.0.0 in d:\\anaconda\\lib\\site-packages (from ipython->ipython-autotime) (3.0.8)\n",
      "Requirement already satisfied: jedi>=0.16 in d:\\anaconda\\lib\\site-packages (from ipython->ipython-autotime) (0.17.2)\n",
      "Requirement already satisfied: traitlets>=4.2 in d:\\anaconda\\lib\\site-packages (from ipython->ipython-autotime) (5.0.5)\n",
      "Requirement already satisfied: colorama in d:\\anaconda\\lib\\site-packages (from ipython->ipython-autotime) (0.4.4)\n",
      "Requirement already satisfied: setuptools>=18.5 in d:\\anaconda\\lib\\site-packages (from ipython->ipython-autotime) (52.0.0.post20210125)\n",
      "Requirement already satisfied: pickleshare in d:\\anaconda\\lib\\site-packages (from ipython->ipython-autotime) (0.7.5)\n",
      "Requirement already satisfied: pygments in d:\\anaconda\\lib\\site-packages (from ipython->ipython-autotime) (2.7.4)\n",
      "Requirement already satisfied: parso<0.8.0,>=0.7.0 in d:\\anaconda\\lib\\site-packages (from jedi>=0.16->ipython->ipython-autotime) (0.7.0)\n",
      "Requirement already satisfied: wcwidth in d:\\anaconda\\lib\\site-packages (from prompt-toolkit!=3.0.0,!=3.0.1,<3.1.0,>=2.0.0->ipython->ipython-autotime) (0.2.5)\n",
      "Requirement already satisfied: ipython-genutils in d:\\anaconda\\lib\\site-packages (from traitlets>=4.2->ipython->ipython-autotime) (0.2.0)\n",
      "time: 0 ns (started: 2021-02-09 14:14:14 +05:30)\n"
     ]
    }
   ],
   "source": [
    "!pip install ipython-autotime\n",
    "%load_ext autotime"
   ]
  },
  {
   "cell_type": "code",
   "execution_count": 7,
   "id": "oriental-grass",
   "metadata": {},
   "outputs": [
    {
     "name": "stdout",
     "output_type": "stream",
     "text": [
      "time: 1min 55s (started: 2021-02-09 14:14:35 +05:30)\n"
     ]
    }
   ],
   "source": [
    "import os\n",
    "import matplotlib.pyplot as plt\n",
    "import numpy as np\n",
    "from skimage.io import imread\n",
    "from skimage.transform import resize\n",
    "\n",
    "target = []\n",
    "images = []\n",
    "flat_data = []\n",
    "\n",
    "DATADIR = 'C:\\\\Users\\Hp\\images'\n",
    "CATEGORIES = ['pretty sunflower', 'rugby ball leather', 'ice cream cone']\n",
    "\n",
    "for category in CATEGORIES:\n",
    "    class_num = CATEGORIES.index(category)  # label encoding the values\n",
    "    path = os.path.join(DATADIR, category)  #Create path to use all the images\n",
    "    for img in os.listdir(path):\n",
    "        img_array = imread(os.path.join(path,img))\n",
    "#         print(img_array)              -- give 2D array\n",
    "#         print(img_array.shape)        --give size\n",
    "\n",
    "\n",
    "\n",
    "#         plt.imshow(img_array)          -- show image\n",
    "#         break                          -- used to shoe only 1 image\n",
    "        img_resized = resize(img_array,(150,150,3))      # resizing it   #Normalizes the value from o to 1\n",
    "        flat_data.append(img_resized.flatten())          # faltten it\n",
    "        images.append(img_resized)                       # appending same to our images\n",
    "        target.append(class_num)                         # append same to our output array\n",
    "        \n",
    "flat_data = np.array(flat_data)                  # if some images left unchange then  we will change it here\n",
    "target = np.array(target)                        \n",
    "images = np.array(images)"
   ]
  },
  {
   "cell_type": "code",
   "execution_count": 8,
   "id": "configured-candle",
   "metadata": {},
   "outputs": [
    {
     "data": {
      "text/plain": [
       "array([0.96679739, 0.97464052, 0.96862745, ..., 0.1903268 , 0.19424837,\n",
       "       0.20993464])"
      ]
     },
     "execution_count": 8,
     "metadata": {},
     "output_type": "execute_result"
    },
    {
     "name": "stdout",
     "output_type": "stream",
     "text": [
      "time: 15 ms (started: 2021-02-09 14:16:49 +05:30)\n"
     ]
    }
   ],
   "source": [
    "flat_data        # bunch of array\n",
    "flat_data[0] "
   ]
  },
  {
   "cell_type": "code",
   "execution_count": 9,
   "id": "valued-future",
   "metadata": {},
   "outputs": [
    {
     "data": {
      "text/plain": [
       "135"
      ]
     },
     "execution_count": 9,
     "metadata": {},
     "output_type": "execute_result"
    },
    {
     "name": "stdout",
     "output_type": "stream",
     "text": [
      "time: 0 ns (started: 2021-02-09 14:16:50 +05:30)\n"
     ]
    }
   ],
   "source": [
    "len(flat_data)             # total we have 90 values"
   ]
  },
  {
   "cell_type": "code",
   "execution_count": 10,
   "id": "industrial-childhood",
   "metadata": {},
   "outputs": [
    {
     "data": {
      "text/plain": [
       "67500"
      ]
     },
     "execution_count": 10,
     "metadata": {},
     "output_type": "execute_result"
    },
    {
     "name": "stdout",
     "output_type": "stream",
     "text": [
      "time: 0 ns (started: 2021-02-09 14:16:50 +05:30)\n"
     ]
    }
   ],
   "source": [
    "len(flat_data[0])"
   ]
  },
  {
   "cell_type": "code",
   "execution_count": 11,
   "id": "electric-excess",
   "metadata": {},
   "outputs": [
    {
     "data": {
      "text/plain": [
       "array([0, 0, 0, 0, 0, 0, 0, 0, 0, 0, 0, 0, 0, 0, 0, 0, 0, 0, 0, 0, 0, 0,\n",
       "       0, 0, 0, 0, 0, 0, 0, 0, 0, 0, 0, 0, 0, 0, 0, 1, 1, 1, 1, 1, 1, 1,\n",
       "       1, 1, 1, 1, 1, 1, 1, 1, 1, 1, 1, 1, 1, 1, 1, 1, 1, 1, 1, 1, 1, 1,\n",
       "       1, 1, 1, 1, 1, 1, 1, 1, 1, 1, 1, 1, 1, 1, 1, 1, 1, 1, 1, 1, 1, 1,\n",
       "       1, 1, 2, 2, 2, 2, 2, 2, 2, 2, 2, 2, 2, 2, 2, 2, 2, 2, 2, 2, 2, 2,\n",
       "       2, 2, 2, 2, 2, 2, 2, 2, 2, 2, 2, 2, 2, 2, 2, 2, 2, 2, 2, 2, 2, 2,\n",
       "       2, 2, 2])"
      ]
     },
     "execution_count": 11,
     "metadata": {},
     "output_type": "execute_result"
    },
    {
     "name": "stdout",
     "output_type": "stream",
     "text": [
      "time: 0 ns (started: 2021-02-09 14:16:52 +05:30)\n"
     ]
    }
   ],
   "source": [
    "target             # we will get 0 - 30times , 1 - 30times, 2 - 30times."
   ]
  },
  {
   "cell_type": "code",
   "execution_count": 12,
   "id": "floating-carrier",
   "metadata": {},
   "outputs": [
    {
     "data": {
      "text/plain": [
       "(array([0, 1, 2]), array([37, 53, 45], dtype=int64))"
      ]
     },
     "execution_count": 12,
     "metadata": {},
     "output_type": "execute_result"
    },
    {
     "name": "stdout",
     "output_type": "stream",
     "text": [
      "time: 0 ns (started: 2021-02-09 14:16:55 +05:30)\n"
     ]
    }
   ],
   "source": [
    " np.unique(target,return_counts = True)"
   ]
  },
  {
   "cell_type": "code",
   "execution_count": 13,
   "id": "square-craps",
   "metadata": {},
   "outputs": [
    {
     "data": {
      "text/plain": [
       "<BarContainer object of 3 artists>"
      ]
     },
     "execution_count": 13,
     "metadata": {},
     "output_type": "execute_result"
    },
    {
     "data": {
      "image/png": "[encoded data removed]",
      "text/plain": [
       "<Figure size 432x288 with 1 Axes>"
      ]
     },
     "metadata": {
      "needs_background": "light"
     },
     "output_type": "display_data"
    },
    {
     "name": "stdout",
     "output_type": "stream",
     "text": [
      "time: 359 ms (started: 2021-02-09 14:16:56 +05:30)\n"
     ]
    }
   ],
   "source": [
    "unique, count =  np.unique(target,return_counts = True)   \n",
    "plt.bar(CATEGORIES,count)                                      # plotting bar graph with name vs count"
   ]
  },
  {
   "cell_type": "code",
   "execution_count": 14,
   "id": "brave-monitoring",
   "metadata": {},
   "outputs": [
    {
     "name": "stdout",
     "output_type": "stream",
     "text": [
      "time: 1.73 s (started: 2021-02-09 14:17:05 +05:30)\n"
     ]
    }
   ],
   "source": [
    "# using sklearn train test split\n",
    "\n",
    "from sklearn.model_selection import train_test_split\n",
    "x_train,x_test,y_train,y_test = train_test_split(flat_data,target,test_size=0.3,random_state=109)"
   ]
  },
  {
   "cell_type": "code",
   "execution_count": 15,
   "id": "favorite-workshop",
   "metadata": {},
   "outputs": [
    {
     "data": {
      "text/plain": [
       "GridSearchCV(estimator=SVC(probability=True),\n",
       "             param_grid=[{'C': [1, 10, 100, 1000], 'kernel': ['linear']},\n",
       "                         {'C': [1, 10, 100, 1000], 'gamma': [0.001, 0.0001],\n",
       "                          'kernel': ['rbf']}])"
      ]
     },
     "execution_count": 15,
     "metadata": {},
     "output_type": "execute_result"
    },
    {
     "name": "stdout",
     "output_type": "stream",
     "text": [
      "time: 6min 9s (started: 2021-02-09 14:17:12 +05:30)\n"
     ]
    }
   ],
   "source": [
    "from sklearn.model_selection import GridSearchCV\n",
    "from sklearn import svm\n",
    "param_grid = [\n",
    "                {'C':[1,10,100,1000],'kernel':['linear']},\n",
    "                {'C':[1,10,100,1000],'gamma':[0.001,0.0001],'kernel':['rbf']}\n",
    "]\n",
    "\n",
    "svc = svm.SVC(probability=True)\n",
    "clf = GridSearchCV(svc,param_grid)\n",
    "clf.fit(x_train,y_train)"
   ]
  },
  {
   "cell_type": "code",
   "execution_count": 16,
   "id": "isolated-hepatitis",
   "metadata": {},
   "outputs": [
    {
     "data": {
      "text/plain": [
       "array([1, 0, 1, 2, 1, 1, 0, 0, 1, 1, 2, 1, 2, 2, 2, 0, 1, 1, 1, 1, 1, 2,\n",
       "       1, 1, 2, 1, 0, 2, 1, 0, 1, 1, 2, 1, 2, 2, 2, 1, 1, 2, 0])"
      ]
     },
     "execution_count": 16,
     "metadata": {},
     "output_type": "execute_result"
    },
    {
     "name": "stdout",
     "output_type": "stream",
     "text": [
      "time: 531 ms (started: 2021-02-09 14:23:28 +05:30)\n"
     ]
    }
   ],
   "source": [
    "y_pred = clf.predict(x_test)\n",
    "y_pred"
   ]
  },
  {
   "cell_type": "code",
   "execution_count": 17,
   "id": "attached-standard",
   "metadata": {},
   "outputs": [
    {
     "data": {
      "text/plain": [
       "array([1, 0, 2, 2, 1, 0, 0, 0, 1, 1, 2, 2, 2, 1, 1, 0, 2, 1, 1, 1, 1, 1,\n",
       "       1, 1, 2, 0, 0, 2, 2, 0, 2, 1, 2, 1, 2, 2, 2, 0, 1, 2, 2])"
      ]
     },
     "execution_count": 17,
     "metadata": {},
     "output_type": "execute_result"
    },
    {
     "name": "stdout",
     "output_type": "stream",
     "text": [
      "time: 0 ns (started: 2021-02-09 14:23:29 +05:30)\n"
     ]
    }
   ],
   "source": [
    "y_test"
   ]
  },
  {
   "cell_type": "code",
   "execution_count": 18,
   "id": "rising-arrow",
   "metadata": {},
   "outputs": [
    {
     "name": "stdout",
     "output_type": "stream",
     "text": [
      "time: 0 ns (started: 2021-02-09 14:23:31 +05:30)\n"
     ]
    }
   ],
   "source": [
    "from sklearn.metrics import accuracy_score,confusion_matrix"
   ]
  },
  {
   "cell_type": "code",
   "execution_count": 19,
   "id": "racial-monkey",
   "metadata": {},
   "outputs": [
    {
     "data": {
      "text/plain": [
       "0.7073170731707317"
      ]
     },
     "execution_count": 19,
     "metadata": {},
     "output_type": "execute_result"
    },
    {
     "name": "stdout",
     "output_type": "stream",
     "text": [
      "time: 0 ns (started: 2021-02-09 14:23:34 +05:30)\n"
     ]
    }
   ],
   "source": [
    "accuracy_score(y_pred,y_test)                      #goes 70% beacuse data is not refined"
   ]
  },
  {
   "cell_type": "code",
   "execution_count": 20,
   "id": "worthy-venue",
   "metadata": {},
   "outputs": [
    {
     "data": {
      "text/plain": [
       "array([[ 6,  0,  1],\n",
       "       [ 3, 13,  5],\n",
       "       [ 0,  3, 10]], dtype=int64)"
      ]
     },
     "execution_count": 20,
     "metadata": {},
     "output_type": "execute_result"
    },
    {
     "name": "stdout",
     "output_type": "stream",
     "text": [
      "time: 94 ms (started: 2021-02-09 14:23:36 +05:30)\n"
     ]
    }
   ],
   "source": [
    "confusion_matrix(y_pred,y_test)       #One of the evaulation , which check wheather we get correct output or not"
   ]
  },
  {
   "cell_type": "code",
   "execution_count": 21,
   "id": "martial-immunology",
   "metadata": {},
   "outputs": [
    {
     "name": "stdout",
     "output_type": "stream",
     "text": [
      "time: 78 ms (started: 2021-02-09 14:23:37 +05:30)\n"
     ]
    }
   ],
   "source": [
    "import pickle\n",
    "pickle.dump(clf,open('image_model.p', 'wb'))"
   ]
  },
  {
   "cell_type": "code",
   "execution_count": 22,
   "id": "robust-immigration",
   "metadata": {},
   "outputs": [
    {
     "name": "stdout",
     "output_type": "stream",
     "text": [
      "time: 31 ms (started: 2021-02-09 14:23:42 +05:30)\n"
     ]
    }
   ],
   "source": [
    "model = pickle.load(open('image_model.p','rb'))     #reading byte"
   ]
  },
  {
   "cell_type": "code",
   "execution_count": 23,
   "id": "royal-madness",
   "metadata": {},
   "outputs": [
    {
     "name": "stdout",
     "output_type": "stream",
     "text": [
      "Enter you urlhttps://encrypted-tbn0.gstatic.com/images?q=tbn:ANd9GcQ_kXjKZgQnUIBlIVYyXWHpLGCehmHywnzp5g&usqp=CAU\n",
      "(284, 178, 3)\n",
      "PREDICTED OUTPUT: ice cream cone\n"
     ]
    },
    {
     "data": {
      "image/png": "[encoded data removed]",
      "text/plain": [
       "<Figure size 432x288 with 1 Axes>"
      ]
     },
     "metadata": {
      "needs_background": "light"
     },
     "output_type": "display_data"
    },
    {
     "name": "stdout",
     "output_type": "stream",
     "text": [
      "time: 23 s (started: 2021-02-09 14:23:44 +05:30)\n"
     ]
    }
   ],
   "source": [
    "flat_data = []\n",
    "url = input('Enter you url')\n",
    "img = imread(url)\n",
    "img_resized = resize(img,(150,150,3))\n",
    "flat_data.append(img_resized.flatten())\n",
    "flat_data = np.array(flat_data)\n",
    "print(img.shape)\n",
    "plt.imshow(img_resized)\n",
    "y_out = model.predict(flat_data)\n",
    "y_out = CATEGORIES[y_out[0]]\n",
    "print(f'PREDICTED OUTPUT: {y_out}')"
   ]
  },
  {
   "cell_type": "markdown",
   "id": "manual-helping",
   "metadata": {},
   "source": [
    "Now here we just haveto deployed our code\n",
    "We can use many different ways to deploy \n",
    "\n",
    "    #1 WebApp\n",
    "    #2 WebPage\n",
    "    #3 Mobile App"
   ]
  },
  {
   "cell_type": "code",
   "execution_count": null,
   "id": "stuffed-grounds",
   "metadata": {},
   "outputs": [],
   "source": []
  },
  {
   "cell_type": "code",
   "execution_count": null,
   "id": "mature-jaguar",
   "metadata": {},
   "outputs": [],
   "source": []
  }
 ],
 "metadata": {
  "kernelspec": {
   "display_name": "Python 3",
   "language": "python",
   "name": "python3"
  },
  "language_info": {
   "codemirror_mode": {
    "name": "ipython",
    "version": 3
   },
   "file_extension": ".py",
   "mimetype": "text/x-python",
   "name": "python",
   "nbconvert_exporter": "python",
   "pygments_lexer": "ipython3",
   "version": "3.8.5"
  }
 },
 "nbformat": 4,
 "nbformat_minor": 5
}
